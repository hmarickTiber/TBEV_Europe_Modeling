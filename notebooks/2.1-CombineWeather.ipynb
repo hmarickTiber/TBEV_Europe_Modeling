{
 "cells": [
  {
   "cell_type": "code",
   "execution_count": null,
   "metadata": {},
   "outputs": [],
   "source": [
    "import sys, os\n",
    "cwd=os.path.abspath(os.path.join(os.getcwd(), '..'))\n",
    "sys.path.insert(0, cwd)\n",
    "import utils.s3_utils as s3\n",
    "import pandas as pd\n",
    "import shapefile as shp\n",
    "from shapely.geometry import Point\n",
    "from shapely.geometry.polygon import Point, Polygon\n",
    "import geopandas as gpd\n",
    "import re\n",
    "import matplotlib.pyplot as plt\n",
    "import rioxarray as rxr\n",
    "import xarray as xr\n",
    "from scipy.spatial.distance import cdist\n",
    "import folium\n",
    "import utils.processing as pr\n",
    "import os\n",
    "import rasterio\n",
    "pd.set_option('display.max_columns', None)\n"
   ]
  },
  {
   "cell_type": "code",
   "execution_count": null,
   "metadata": {},
   "outputs": [],
   "source": [
    "\n",
    "\n",
    "label_dict = {\n",
    "    'tg' : 'meanTemp',\n",
    "    'fg' : 'windSpeed',\n",
    "    'tn' : 'minTemp',\n",
    "    'tx' : 'maxTemp',\n",
    "    'rr' : 'Precip',\n",
    "    'hu' : 'relHumidity', #v29 humidity from e-obs not present for 2011-2023, so pulled v28.0\n",
    "    'qq' : 'meanRadiation'\n",
    "}\n",
    "\n",
    "wdf_agg_list=[]\n",
    "for data_col in label_dict.keys():\n",
    "    print(data_col)\n",
    "    wdf_list = []\n",
    "    for timeframe in ['1995-2010', \"2011-2023\"]:\n",
    "        weather_filename = f\"../../data/climate/0.1deg/eobs-eu-climate-{timeframe}/{data_col}_ens_mean_0.1deg_reg_{timeframe}_v29.0e.nc\"\n",
    "        print(weather_filename)\n",
    "        ds = xr.open_dataset(weather_filename, engine='h5netcdf')\n",
    "        wdf = ds.to_dataframe()\n",
    "        del ds\n",
    "        wdf = wdf.reset_index()\n",
    "        wdf = wdf.dropna()\n",
    "        wdf = wdf[wdf.time >= '1999-12-01']\n",
    "        wdf_list.append(wdf)\n",
    "    wdf = pd.concat(wdf_list).reset_index(drop=True)\n",
    "    display(wdf.info())\n",
    "    del wdf_list\n",
    "    for year in range(2000,2023):\n",
    "        print(year)\n",
    "        wdf_yr = wdf[(f'{year-1}-12-01'<= wdf.time) & (wdf.time < f'{year}-12-01')]\n",
    "        path_to_write_file=f'../../data/climate/0.1deg/eobs-eu-climate-parquet-2000-2023/' + f'{data_col}/{data_col}_ens_mean_0.1deg_reg_{year}_v29.0e.parquet'\n",
    "        wdf_yr.to_parquet(path_to_write_file, compression ='snappy')"
   ]
  }
 ],
 "metadata": {
  "kernelspec": {
   "display_name": ".venv",
   "language": "python",
   "name": "python3"
  },
  "language_info": {
   "codemirror_mode": {
    "name": "ipython",
    "version": 3
   },
   "file_extension": ".py",
   "mimetype": "text/x-python",
   "name": "python",
   "nbconvert_exporter": "python",
   "pygments_lexer": "ipython3",
   "version": "3.10.12"
  },
  "orig_nbformat": 4
 },
 "nbformat": 4,
 "nbformat_minor": 2
}
