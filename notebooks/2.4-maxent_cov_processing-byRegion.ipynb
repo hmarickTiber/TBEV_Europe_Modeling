{
 "cells": [
  {
   "cell_type": "code",
   "execution_count": null,
   "metadata": {},
   "outputs": [],
   "source": [
    "import sys, os\n",
    "cwd=os.path.abspath(os.path.join(os.getcwd(), '..'))\n",
    "sys.path.insert(0, cwd)\n",
    "import utils.s3_utils as s3\n",
    "from utils.xtrain_processing import training_proc\n",
    "import pandas as pd\n",
    "import shapefile as shp\n",
    "import geopandas as gpd\n",
    "import re\n",
    "import matplotlib.pyplot as plt\n",
    "import numpy as np\n",
    "import folium\n",
    "import utils.processing as pr\n",
    "import os\n",
    "import rioxarray as rxr\n",
    "import xarray as xr\n",
    "import geopandas as gpd\n",
    "from config.paths import cov_dict\n",
    "import config.paths as path\n",
    "from geocube.api.core import make_geocube\n",
    "\n",
    "from sklearn.metrics.pairwise import euclidean_distances\n",
    "pd.set_option('display.max_columns', None)"
   ]
  },
  {
   "cell_type": "markdown",
   "metadata": {},
   "source": [
    "## This notebook processes data into .tif files for further processing in QGIS into .asc images for usage in Maxent. "
   ]
  },
  {
   "cell_type": "code",
   "execution_count": null,
   "metadata": {},
   "outputs": [],
   "source": [
    "region_code_list = [0,1,2]\n",
    "modelpath = path.model_path\n",
    "\n",
    "write_path = f'../../data/{modelpath}/maxent-covariates/processed-cov-tif/'"
   ]
  },
  {
   "cell_type": "code",
   "execution_count": null,
   "metadata": {},
   "outputs": [],
   "source": [
    "env_db_path = '../../data/raw-data/landcover-EEA/eea_r_3035_100_m_ecosystem-types-terrestrial-c_p_2012_v03_r01/mapping-dict-eea_r_3035_100_m_etm-terrestrial-c_2012_v3-1_r00.tif.vat.csv'\n",
    "env_db = pd.read_csv(env_db_path).rename({'Value,N,10,0':'env_code','EUNIS_L2,C,254':'env_type'},axis=1)\n",
    "env_map = dict(zip(env_db.env_code,env_db.env_type))\n",
    "env_map"
   ]
  },
  {
   "cell_type": "code",
   "execution_count": null,
   "metadata": {},
   "outputs": [],
   "source": [
    "covariate_list = list(cov_dict.keys())[1:]\n",
    "covariate_list"
   ]
  },
  {
   "cell_type": "code",
   "execution_count": null,
   "metadata": {},
   "outputs": [],
   "source": [
    "#read in processed country predictor data\n",
    "df_list = []\n",
    "for region_code in region_code_list:\n",
    "    print(f'Ingesting region {region_code} covariate data...')\n",
    "    read_filename = f'../../data/{modelpath}/processed-predictor-parquets/clustered/{region_code}-predictors.parquet'\n",
    "    pred_df = pd.read_parquet(read_filename)\n",
    "    pred_df = gpd.GeoDataFrame(\n",
    "        pred_df, geometry=gpd.points_from_xy(pred_df['lon_env'], pred_df['lat_env']))\n",
    "\n",
    "    pred_df = pred_df.drop_duplicates().reset_index(drop=True)\n",
    "    pred_df['landcover'] = pred_df['landcover'].astype('int16')\n",
    "    pred_df['elev'] = pred_df['elev'].astype('int16')\n",
    "\n",
    "    pred_df.columns = map(str.lower, pred_df.columns)\n",
    "    pred_df = pred_df.rename({\n",
    "                    'tg-grp-mean-days-above-5degc-monthly-ratio':'tg-grp-mean-days-above-5degC-monthly-ratio', \n",
    "                    }, axis=1)\n",
    "    pred_df.info()\n",
    "\n",
    "    for covariate in covariate_list:\n",
    "        print(covariate)\n",
    "        \n",
    "        A = pred_df[['geometry','lon_env','lat_env',covariate]]\n",
    "        res=.01\n",
    "\n",
    "        out_grd = make_geocube(\n",
    "            vector_data=A,\n",
    "            measurements=[covariate],\n",
    "            resolution=(-res, res)\n",
    "        )\n",
    "        out_grd = out_grd.fillna(-9999)\n",
    "        print(f'writing {covariate} to file')\n",
    "        geotif_file = write_path + f'region-{region_code}/{covariate}.tif'\n",
    "        out_grd[covariate].rio.to_raster(geotif_file, compress=\"LZW\")"
   ]
  },
  {
   "cell_type": "markdown",
   "metadata": {},
   "source": [
    "### Writing as shapefile... takes forever (not recommended)\n"
   ]
  },
  {
   "cell_type": "code",
   "execution_count": null,
   "metadata": {},
   "outputs": [],
   "source": [
    "for covariate in covariate_list:\n",
    "    pred_df[[ 'geometry','lon_env','lat_env',covariate]].reset_index(drop=True).to_file(write_path + f'{covariate}.shp')"
   ]
  }
 ],
 "metadata": {
  "kernelspec": {
   "display_name": ".venv",
   "language": "python",
   "name": "python3"
  },
  "language_info": {
   "codemirror_mode": {
    "name": "ipython",
    "version": 3
   },
   "file_extension": ".py",
   "mimetype": "text/x-python",
   "name": "python",
   "nbconvert_exporter": "python",
   "pygments_lexer": "ipython3",
   "version": "3.11.6"
  }
 },
 "nbformat": 4,
 "nbformat_minor": 2
}
